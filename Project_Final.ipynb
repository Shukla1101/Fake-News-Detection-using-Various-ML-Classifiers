{
  "nbformat": 4,
  "nbformat_minor": 5,
  "metadata": {
    "kernelspec": {
      "display_name": "Python 3",
      "language": "python",
      "name": "python3"
    },
    "language_info": {
      "codemirror_mode": {
        "name": "ipython",
        "version": 3
      },
      "file_extension": ".py",
      "mimetype": "text/x-python",
      "name": "python",
      "nbconvert_exporter": "python",
      "pygments_lexer": "ipython3",
      "version": "3.8.8"
    },
    "colab": {
      "name": "Project-Final.ipynb",
      "provenance": []
    }
  },
  "cells": [
    {
      "cell_type": "code",
      "metadata": {
        "colab": {
          "base_uri": "https://localhost:8080/"
        },
        "id": "add32abd",
        "outputId": "c9a7dd8f-095a-4373-9be7-5e84712d6285"
      },
      "source": [
        "import pandas as pd\n",
        "from sklearn.feature_extraction.text import CountVectorizer, TfidfVectorizer, HashingVectorizer\n",
        "import nltk\n",
        "nltk.download('punkt')\n",
        "nltk.download('stopwords')\n",
        "from nltk.corpus import stopwords\n",
        "from nltk.tokenize import word_tokenize\n",
        "from nltk.stem.porter import PorterStemmer\n",
        "from sklearn.feature_extraction.text import TfidfTransformer\n",
        "from sklearn.model_selection import train_test_split\n",
        "import matplotlib.pyplot as plt\n",
        "import numpy as np\n",
        "import re\n",
        "from tensorflow.keras.layers import Embedding,LSTM,Dense,Dropout\n",
        "from tensorflow.keras.preprocessing.sequence import pad_sequences\n",
        "from tensorflow.keras.models import Sequential\n",
        "from tensorflow.keras.preprocessing.text import one_hot"
      ],
      "id": "add32abd",
      "execution_count": null,
      "outputs": [
        {
          "output_type": "stream",
          "name": "stdout",
          "text": [
            "[nltk_data] Downloading package punkt to /root/nltk_data...\n",
            "[nltk_data]   Package punkt is already up-to-date!\n",
            "[nltk_data] Downloading package stopwords to /root/nltk_data...\n",
            "[nltk_data]   Package stopwords is already up-to-date!\n"
          ]
        }
      ]
    },
    {
      "cell_type": "markdown",
      "metadata": {
        "id": "8cae3794"
      },
      "source": [
        "## Loading Data from CSV"
      ],
      "id": "8cae3794"
    },
    {
      "cell_type": "code",
      "metadata": {
        "colab": {
          "base_uri": "https://localhost:8080/",
          "height": 649
        },
        "id": "7bcf8d57",
        "outputId": "536d5182-a118-4ceb-9302-3af034d65965"
      },
      "source": [
        "data = pd.read_csv('news_articles.csv')\n",
        "data.head()"
      ],
      "id": "7bcf8d57",
      "execution_count": null,
      "outputs": [
        {
          "output_type": "execute_result",
          "data": {
            "text/html": [
              "<div>\n",
              "<style scoped>\n",
              "    .dataframe tbody tr th:only-of-type {\n",
              "        vertical-align: middle;\n",
              "    }\n",
              "\n",
              "    .dataframe tbody tr th {\n",
              "        vertical-align: top;\n",
              "    }\n",
              "\n",
              "    .dataframe thead th {\n",
              "        text-align: right;\n",
              "    }\n",
              "</style>\n",
              "<table border=\"1\" class=\"dataframe\">\n",
              "  <thead>\n",
              "    <tr style=\"text-align: right;\">\n",
              "      <th></th>\n",
              "      <th>author</th>\n",
              "      <th>published</th>\n",
              "      <th>title</th>\n",
              "      <th>text</th>\n",
              "      <th>language</th>\n",
              "      <th>site_url</th>\n",
              "      <th>main_img_url</th>\n",
              "      <th>type</th>\n",
              "      <th>label</th>\n",
              "      <th>title_without_stopwords</th>\n",
              "      <th>text_without_stopwords</th>\n",
              "      <th>hasImage</th>\n",
              "    </tr>\n",
              "  </thead>\n",
              "  <tbody>\n",
              "    <tr>\n",
              "      <th>0</th>\n",
              "      <td>Barracuda Brigade</td>\n",
              "      <td>2016-10-26T21:41:00.000+03:00</td>\n",
              "      <td>muslims busted they stole millions in govt ben...</td>\n",
              "      <td>print they should pay all the back all the mon...</td>\n",
              "      <td>english</td>\n",
              "      <td>100percentfedup.com</td>\n",
              "      <td>http://bb4sp.com/wp-content/uploads/2016/10/Fu...</td>\n",
              "      <td>bias</td>\n",
              "      <td>Real</td>\n",
              "      <td>muslims busted stole millions govt benefits</td>\n",
              "      <td>print pay back money plus interest entire fami...</td>\n",
              "      <td>1.0</td>\n",
              "    </tr>\n",
              "    <tr>\n",
              "      <th>1</th>\n",
              "      <td>reasoning with facts</td>\n",
              "      <td>2016-10-29T08:47:11.259+03:00</td>\n",
              "      <td>re why did attorney general loretta lynch plea...</td>\n",
              "      <td>why did attorney general loretta lynch plead t...</td>\n",
              "      <td>english</td>\n",
              "      <td>100percentfedup.com</td>\n",
              "      <td>http://bb4sp.com/wp-content/uploads/2016/10/Fu...</td>\n",
              "      <td>bias</td>\n",
              "      <td>Real</td>\n",
              "      <td>attorney general loretta lynch plead fifth</td>\n",
              "      <td>attorney general loretta lynch plead fifth bar...</td>\n",
              "      <td>1.0</td>\n",
              "    </tr>\n",
              "    <tr>\n",
              "      <th>2</th>\n",
              "      <td>Barracuda Brigade</td>\n",
              "      <td>2016-10-31T01:41:49.479+02:00</td>\n",
              "      <td>breaking weiner cooperating with fbi on hillar...</td>\n",
              "      <td>red state  \\nfox news sunday reported this mor...</td>\n",
              "      <td>english</td>\n",
              "      <td>100percentfedup.com</td>\n",
              "      <td>http://bb4sp.com/wp-content/uploads/2016/10/Fu...</td>\n",
              "      <td>bias</td>\n",
              "      <td>Real</td>\n",
              "      <td>breaking weiner cooperating fbi hillary email ...</td>\n",
              "      <td>red state fox news sunday reported morning ant...</td>\n",
              "      <td>1.0</td>\n",
              "    </tr>\n",
              "    <tr>\n",
              "      <th>3</th>\n",
              "      <td>Fed Up</td>\n",
              "      <td>2016-11-01T05:22:00.000+02:00</td>\n",
              "      <td>pin drop speech by father of daughter kidnappe...</td>\n",
              "      <td>email kayla mueller was a prisoner and torture...</td>\n",
              "      <td>english</td>\n",
              "      <td>100percentfedup.com</td>\n",
              "      <td>http://100percentfedup.com/wp-content/uploads/...</td>\n",
              "      <td>bias</td>\n",
              "      <td>Real</td>\n",
              "      <td>pin drop speech father daughter kidnapped kill...</td>\n",
              "      <td>email kayla mueller prisoner tortured isis cha...</td>\n",
              "      <td>1.0</td>\n",
              "    </tr>\n",
              "    <tr>\n",
              "      <th>4</th>\n",
              "      <td>Fed Up</td>\n",
              "      <td>2016-11-01T21:56:00.000+02:00</td>\n",
              "      <td>fantastic trumps  point plan to reform healthc...</td>\n",
              "      <td>email healthcare reform to make america great ...</td>\n",
              "      <td>english</td>\n",
              "      <td>100percentfedup.com</td>\n",
              "      <td>http://100percentfedup.com/wp-content/uploads/...</td>\n",
              "      <td>bias</td>\n",
              "      <td>Real</td>\n",
              "      <td>fantastic trumps point plan reform healthcare ...</td>\n",
              "      <td>email healthcare reform make america great sin...</td>\n",
              "      <td>1.0</td>\n",
              "    </tr>\n",
              "  </tbody>\n",
              "</table>\n",
              "</div>"
            ],
            "text/plain": [
              "                 author  ... hasImage\n",
              "0     Barracuda Brigade  ...      1.0\n",
              "1  reasoning with facts  ...      1.0\n",
              "2     Barracuda Brigade  ...      1.0\n",
              "3                Fed Up  ...      1.0\n",
              "4                Fed Up  ...      1.0\n",
              "\n",
              "[5 rows x 12 columns]"
            ]
          },
          "metadata": {},
          "execution_count": 190
        }
      ]
    },
    {
      "cell_type": "markdown",
      "metadata": {
        "id": "8a241775"
      },
      "source": [
        "Cleaning the Data"
      ],
      "id": "8a241775"
    },
    {
      "cell_type": "code",
      "metadata": {
        "colab": {
          "base_uri": "https://localhost:8080/"
        },
        "id": "74b38b39",
        "outputId": "aa488f4c-8fde-4c79-c080-2cc2d0628234"
      },
      "source": [
        "# checking for null values\n",
        "data.isnull().sum()"
      ],
      "id": "74b38b39",
      "execution_count": null,
      "outputs": [
        {
          "output_type": "execute_result",
          "data": {
            "text/plain": [
              "author                      0\n",
              "published                   0\n",
              "title                       0\n",
              "text                       46\n",
              "language                    1\n",
              "site_url                    1\n",
              "main_img_url                1\n",
              "type                        1\n",
              "label                       1\n",
              "title_without_stopwords     2\n",
              "text_without_stopwords     50\n",
              "hasImage                    1\n",
              "dtype: int64"
            ]
          },
          "metadata": {},
          "execution_count": 191
        }
      ]
    },
    {
      "cell_type": "code",
      "metadata": {
        "id": "85c341a7"
      },
      "source": [
        "# removing all the null rows\n",
        "data = data.dropna(how='any',axis=0)"
      ],
      "id": "85c341a7",
      "execution_count": null,
      "outputs": []
    },
    {
      "cell_type": "code",
      "metadata": {
        "colab": {
          "base_uri": "https://localhost:8080/"
        },
        "id": "6a0d3269",
        "outputId": "558c5f2d-d60d-4137-a87f-d57f114323f7"
      },
      "source": [
        "data['type'].unique()"
      ],
      "id": "6a0d3269",
      "execution_count": null,
      "outputs": [
        {
          "output_type": "execute_result",
          "data": {
            "text/plain": [
              "array(['bias', 'conspiracy', 'fake', 'bs', 'satire', 'hate', 'junksci',\n",
              "       'state'], dtype=object)"
            ]
          },
          "metadata": {},
          "execution_count": 193
        }
      ]
    },
    {
      "cell_type": "markdown",
      "metadata": {
        "id": "91a5ed53"
      },
      "source": [
        "# Analysing the Data set\n",
        "## Checking how the different attributes affect the news being fake or real"
      ],
      "id": "91a5ed53"
    },
    {
      "cell_type": "markdown",
      "metadata": {
        "id": "dcd359a9"
      },
      "source": [
        "We first check for the 'Type' of news we are taking into consideration"
      ],
      "id": "dcd359a9"
    },
    {
      "cell_type": "code",
      "metadata": {
        "colab": {
          "base_uri": "https://localhost:8080/",
          "height": 264
        },
        "id": "7931a3c3",
        "outputId": "521250dd-19a4-434f-ae6b-5b271b29a69d"
      },
      "source": [
        "data['type'].value_counts().plot.pie()\n",
        "plt.title('Distribution of type of news in the data set')\n",
        "plt.show()"
      ],
      "id": "7931a3c3",
      "execution_count": null,
      "outputs": [
        {
          "output_type": "display_data",
          "data": {
            "image/png": "[encoded data removed]",
            "text/plain": [
              "<Figure size 432x288 with 1 Axes>"
            ]
          },
          "metadata": {}
        }
      ]
    },
    {
      "cell_type": "code",
      "metadata": {
        "colab": {
          "base_uri": "https://localhost:8080/",
          "height": 339
        },
        "id": "8c88b306",
        "outputId": "43dfafdb-e2a6-4336-ee59-3692d27b734b"
      },
      "source": [
        "ct = pd.crosstab(data['type'], data['label'])\n",
        "ct.plot(kind='bar', stacked=True)\n",
        "plt.title('Relation between type of news and it being real and fake')\n",
        "plt.show()"
      ],
      "id": "8c88b306",
      "execution_count": null,
      "outputs": [
        {
          "output_type": "display_data",
          "data": {
            "image/png": "[encoded data removed]",
            "text/plain": [
              "<Figure size 432x288 with 1 Axes>"
            ]
          },
          "metadata": {
            "needs_background": "light"
          }
        }
      ]
    },
    {
      "cell_type": "markdown",
      "metadata": {
        "id": "625f1a58"
      },
      "source": [
        "Checking for the websites the news was published"
      ],
      "id": "625f1a58"
    },
    {
      "cell_type": "code",
      "metadata": {
        "id": "a444fba7"
      },
      "source": [
        "websites_real_news = []\n",
        "websites_fake_news = []\n",
        "\n",
        "for index, row in data.iterrows():\n",
        "    if(row['label'] == 'Real'):\n",
        "        websites_real_news.append(row['site_url'])\n",
        "    elif(row['label'] == 'Fake'):\n",
        "        websites_fake_news.append(row['site_url'])"
      ],
      "id": "a444fba7",
      "execution_count": null,
      "outputs": []
    },
    {
      "cell_type": "code",
      "metadata": {
        "colab": {
          "base_uri": "https://localhost:8080/"
        },
        "id": "1e52feb3",
        "outputId": "5bb3a290-1a04-402e-ad9d-7416c5b006ac"
      },
      "source": [
        "print('Websites that print fake news : ', set(websites_fake_news))\n",
        "print()\n",
        "print('Websites that print real news : ', set(websites_real_news))"
      ],
      "id": "1e52feb3",
      "execution_count": null,
      "outputs": [
        {
          "output_type": "stream",
          "name": "stdout",
          "text": [
            "Websites that print fake news :  {'theeconomiccollapseblog.com', 'awdnews.com', 'amren.com', 'shiftfrequency.com', 'theonion.com', 'abcnews.com.co', 'presstv.ir', 'thetruthseeker.co.uk', 'counterpunch.org', 'dcclothesline.com', 'naturalnews.com', 'thedailysheeple.com', 'prisonplanet.com', 'countercurrents.org', 'intrepidreport.com', 'galacticconnection.com', 'madworldnews.com', 'westernjournalism.com', 'abovetopsecret.com', 'davidwolfe.com', 'activistpost.com', 'americannews.com', 'barenakedislam.com', 'whatreallyhappened.com', 'veteranstoday.com', 'returnofkings.com', 'americasfreedomfighters.com', 'thefreethoughtproject.com', 'thesaker.is', 'theunrealtimes.com', 'clickhole.com', 'abeldanger.net', 'frontpagemag.com', 'thepeoplescube.com', 'fromthetrenchesworldreport.com', 'allnewspipeline.com', 'darkmoon.me', '21stcenturywire.com', 'adobochronicles.com', 'amtvmedia.com', 'infowars.com', 'departed.co', 'globalresearch.ca', 'projectveritas.com', 'washingtonsblog.com', 'ahtribune.com', 'davidduke.com', 'coasttocoastam.com', 'newstarget.com', 'therussophile.org', 'legorafi.fr', 'davidstockmanscontracorner.com', 'themindunleashed.com', 'topinfopost.com', 'voltairenet.org', 'corbettreport.com', 'dennismichaellynch.com', 'der-postillon.com', 'defenddemocracy.press'}\n",
            "\n",
            "Websites that print real news :  {'fromthetrenchesworldreport.com', 'presstv.com', 'newstarget.com', 'proudemocrat.com', 'returnofkings.com', 'westernjournalism.com', 'addictinginfo.org', 'whydontyoutrythis.com', 'wnd.com', 'politicususa.com', 'redstatewatcher.com', 'presstv.ir', '100percentfedup.com', 'washingtonsblog.com', 'prisonplanet.com', 'dailywire.com', 'davidduke.com', 'frontpagemag.com'}\n"
          ]
        }
      ]
    },
    {
      "cell_type": "code",
      "metadata": {
        "colab": {
          "base_uri": "https://localhost:8080/"
        },
        "id": "68a9922a",
        "outputId": "1360cba5-a533-4654-edbf-a08e213098f3"
      },
      "source": [
        "fake_and_real = list(set(websites_fake_news) & set(websites_real_news))\n",
        "print('Websites that print both fake and real news : ', fake_and_real)"
      ],
      "id": "68a9922a",
      "execution_count": null,
      "outputs": [
        {
          "output_type": "stream",
          "name": "stdout",
          "text": [
            "Websites that print both fake and real news :  ['fromthetrenchesworldreport.com', 'newstarget.com', 'presstv.ir', 'washingtonsblog.com', 'prisonplanet.com', 'returnofkings.com', 'davidduke.com', 'westernjournalism.com', 'frontpagemag.com']\n"
          ]
        }
      ]
    },
    {
      "cell_type": "markdown",
      "metadata": {
        "id": "4cd952dc"
      },
      "source": [
        "We then breakdown and check for the authors on this websites who write fake news"
      ],
      "id": "4cd952dc"
    },
    {
      "cell_type": "code",
      "metadata": {
        "id": "d1df19d0"
      },
      "source": [
        "author_fake = []\n",
        "author_real = []\n",
        "\n",
        "frames = []\n",
        "for site in fake_and_real:\n",
        "    d = data.loc[data['site_url'] == site]\n",
        "    frames.append(d)\n",
        "    \n",
        "temp = pd.concat(frames)\n",
        "\n",
        "for i,row in temp.iterrows():\n",
        "    key = row['site_url']\n",
        "    value = row['author']\n",
        "    if(row['label'] == 'Real'):\n",
        "        author_real.append((key,value))\n",
        "\n",
        "    elif(row['label'] == 'Fake'):\n",
        "        author_fake.append((key,value))"
      ],
      "id": "d1df19d0",
      "execution_count": null,
      "outputs": []
    },
    {
      "cell_type": "code",
      "metadata": {
        "colab": {
          "base_uri": "https://localhost:8080/"
        },
        "id": "145a2a9e",
        "outputId": "cfe993b5-f242-4c10-b967-d83ba00a3c56"
      },
      "source": [
        "author_fake = list(set(author_fake))\n",
        "author_real = list(set(author_real))\n",
        "print('Number of Authors that write real news : ' , len(author_real))\n",
        "print('Number of Authors that write fake news : ' , len(author_fake))"
      ],
      "id": "145a2a9e",
      "execution_count": null,
      "outputs": [
        {
          "output_type": "stream",
          "name": "stdout",
          "text": [
            "Number of Authors that write real news :  168\n",
            "Number of Authors that write fake news :  36\n"
          ]
        }
      ]
    },
    {
      "cell_type": "markdown",
      "metadata": {
        "id": "RBo8Dli1GCVe"
      },
      "source": [
        "Checking for the different languages so that we can use those stop words"
      ],
      "id": "RBo8Dli1GCVe"
    },
    {
      "cell_type": "code",
      "metadata": {
        "colab": {
          "base_uri": "https://localhost:8080/"
        },
        "id": "yI2o3Q5DGIoA",
        "outputId": "44559dd6-8008-470d-958e-b77c7a5dca6b"
      },
      "source": [
        "data['language'].value_counts()"
      ],
      "id": "yI2o3Q5DGIoA",
      "execution_count": null,
      "outputs": [
        {
          "output_type": "execute_result",
          "data": {
            "text/plain": [
              "english    1967\n",
              "german       72\n",
              "ignore        3\n",
              "french        2\n",
              "spanish       1\n",
              "Name: language, dtype: int64"
            ]
          },
          "metadata": {},
          "execution_count": 201
        }
      ]
    },
    {
      "cell_type": "code",
      "metadata": {
        "colab": {
          "base_uri": "https://localhost:8080/"
        },
        "id": "Q7Ohw0EUGuo9",
        "outputId": "a92d19d0-780b-4af3-da71-f63d02f8c51c"
      },
      "source": [
        "stpwords = []\n",
        "languages = data['language'].unique()\n",
        "languages = np.delete(languages,1)\n",
        "print(languages)"
      ],
      "id": "Q7Ohw0EUGuo9",
      "execution_count": null,
      "outputs": [
        {
          "output_type": "stream",
          "name": "stdout",
          "text": [
            "['english' 'german' 'french' 'spanish']\n"
          ]
        }
      ]
    },
    {
      "cell_type": "code",
      "metadata": {
        "id": "spR4L4lYH_Zf"
      },
      "source": [
        "stp_wrds = []\n",
        "\n",
        "for lang in languages:\n",
        "    stp_wrds.append(stopwords.words(lang)[:])"
      ],
      "id": "spR4L4lYH_Zf",
      "execution_count": null,
      "outputs": []
    },
    {
      "cell_type": "markdown",
      "metadata": {
        "id": "03302a84"
      },
      "source": [
        "# Training the model"
      ],
      "id": "03302a84"
    },
    {
      "cell_type": "code",
      "metadata": {
        "colab": {
          "base_uri": "https://localhost:8080/",
          "height": 649
        },
        "id": "RBzU4ibm70S5",
        "outputId": "8144bb8a-e294-4c9d-fc82-ffda20399def"
      },
      "source": [
        "type_label = {'Real': 0, 'Fake': 1}\n",
        "data.label = [type_label[item] for item in data.label]\n",
        "data.head()"
      ],
      "id": "RBzU4ibm70S5",
      "execution_count": null,
      "outputs": [
        {
          "output_type": "execute_result",
          "data": {
            "text/html": [
              "<div>\n",
              "<style scoped>\n",
              "    .dataframe tbody tr th:only-of-type {\n",
              "        vertical-align: middle;\n",
              "    }\n",
              "\n",
              "    .dataframe tbody tr th {\n",
              "        vertical-align: top;\n",
              "    }\n",
              "\n",
              "    .dataframe thead th {\n",
              "        text-align: right;\n",
              "    }\n",
              "</style>\n",
              "<table border=\"1\" class=\"dataframe\">\n",
              "  <thead>\n",
              "    <tr style=\"text-align: right;\">\n",
              "      <th></th>\n",
              "      <th>author</th>\n",
              "      <th>published</th>\n",
              "      <th>title</th>\n",
              "      <th>text</th>\n",
              "      <th>language</th>\n",
              "      <th>site_url</th>\n",
              "      <th>main_img_url</th>\n",
              "      <th>type</th>\n",
              "      <th>label</th>\n",
              "      <th>title_without_stopwords</th>\n",
              "      <th>text_without_stopwords</th>\n",
              "      <th>hasImage</th>\n",
              "    </tr>\n",
              "  </thead>\n",
              "  <tbody>\n",
              "    <tr>\n",
              "      <th>0</th>\n",
              "      <td>Barracuda Brigade</td>\n",
              "      <td>2016-10-26T21:41:00.000+03:00</td>\n",
              "      <td>muslims busted they stole millions in govt ben...</td>\n",
              "      <td>print they should pay all the back all the mon...</td>\n",
              "      <td>english</td>\n",
              "      <td>100percentfedup.com</td>\n",
              "      <td>http://bb4sp.com/wp-content/uploads/2016/10/Fu...</td>\n",
              "      <td>bias</td>\n",
              "      <td>0</td>\n",
              "      <td>muslims busted stole millions govt benefits</td>\n",
              "      <td>print pay back money plus interest entire fami...</td>\n",
              "      <td>1.0</td>\n",
              "    </tr>\n",
              "    <tr>\n",
              "      <th>1</th>\n",
              "      <td>reasoning with facts</td>\n",
              "      <td>2016-10-29T08:47:11.259+03:00</td>\n",
              "      <td>re why did attorney general loretta lynch plea...</td>\n",
              "      <td>why did attorney general loretta lynch plead t...</td>\n",
              "      <td>english</td>\n",
              "      <td>100percentfedup.com</td>\n",
              "      <td>http://bb4sp.com/wp-content/uploads/2016/10/Fu...</td>\n",
              "      <td>bias</td>\n",
              "      <td>0</td>\n",
              "      <td>attorney general loretta lynch plead fifth</td>\n",
              "      <td>attorney general loretta lynch plead fifth bar...</td>\n",
              "      <td>1.0</td>\n",
              "    </tr>\n",
              "    <tr>\n",
              "      <th>2</th>\n",
              "      <td>Barracuda Brigade</td>\n",
              "      <td>2016-10-31T01:41:49.479+02:00</td>\n",
              "      <td>breaking weiner cooperating with fbi on hillar...</td>\n",
              "      <td>red state  \\nfox news sunday reported this mor...</td>\n",
              "      <td>english</td>\n",
              "      <td>100percentfedup.com</td>\n",
              "      <td>http://bb4sp.com/wp-content/uploads/2016/10/Fu...</td>\n",
              "      <td>bias</td>\n",
              "      <td>0</td>\n",
              "      <td>breaking weiner cooperating fbi hillary email ...</td>\n",
              "      <td>red state fox news sunday reported morning ant...</td>\n",
              "      <td>1.0</td>\n",
              "    </tr>\n",
              "    <tr>\n",
              "      <th>3</th>\n",
              "      <td>Fed Up</td>\n",
              "      <td>2016-11-01T05:22:00.000+02:00</td>\n",
              "      <td>pin drop speech by father of daughter kidnappe...</td>\n",
              "      <td>email kayla mueller was a prisoner and torture...</td>\n",
              "      <td>english</td>\n",
              "      <td>100percentfedup.com</td>\n",
              "      <td>http://100percentfedup.com/wp-content/uploads/...</td>\n",
              "      <td>bias</td>\n",
              "      <td>0</td>\n",
              "      <td>pin drop speech father daughter kidnapped kill...</td>\n",
              "      <td>email kayla mueller prisoner tortured isis cha...</td>\n",
              "      <td>1.0</td>\n",
              "    </tr>\n",
              "    <tr>\n",
              "      <th>4</th>\n",
              "      <td>Fed Up</td>\n",
              "      <td>2016-11-01T21:56:00.000+02:00</td>\n",
              "      <td>fantastic trumps  point plan to reform healthc...</td>\n",
              "      <td>email healthcare reform to make america great ...</td>\n",
              "      <td>english</td>\n",
              "      <td>100percentfedup.com</td>\n",
              "      <td>http://100percentfedup.com/wp-content/uploads/...</td>\n",
              "      <td>bias</td>\n",
              "      <td>0</td>\n",
              "      <td>fantastic trumps point plan reform healthcare ...</td>\n",
              "      <td>email healthcare reform make america great sin...</td>\n",
              "      <td>1.0</td>\n",
              "    </tr>\n",
              "  </tbody>\n",
              "</table>\n",
              "</div>"
            ],
            "text/plain": [
              "                 author  ... hasImage\n",
              "0     Barracuda Brigade  ...      1.0\n",
              "1  reasoning with facts  ...      1.0\n",
              "2     Barracuda Brigade  ...      1.0\n",
              "3                Fed Up  ...      1.0\n",
              "4                Fed Up  ...      1.0\n",
              "\n",
              "[5 rows x 12 columns]"
            ]
          },
          "metadata": {},
          "execution_count": 205
        }
      ]
    },
    {
      "cell_type": "code",
      "metadata": {
        "id": "34a3b180"
      },
      "source": [
        "y = data.label\n",
        "df = data['site_url'] + ' ' +data['title'] + ' ' + data['author']\n",
        "combined = df.values"
      ],
      "id": "34a3b180",
      "execution_count": null,
      "outputs": []
    },
    {
      "cell_type": "code",
      "metadata": {
        "id": "eyybl-mf-Brj"
      },
      "source": [
        "cleaned = []\n",
        "\n",
        "for t in combined:\n",
        "    text = re.sub('[^a-zA-Z]',' ', t)\n",
        "    #converting all words into lower case\n",
        "    text = text.lower()\n",
        "    \n",
        "    #tokenizing \n",
        "    text = text.split()\n",
        "    \n",
        "    #stemming and removing stopwords\n",
        "    ps = PorterStemmer()\n",
        "    text = [ps.stem(words) for words in text if words not in stp_wrds]\n",
        "    text = ' '.join(text)\n",
        "    cleaned.append(text)"
      ],
      "id": "eyybl-mf-Brj",
      "execution_count": null,
      "outputs": []
    },
    {
      "cell_type": "code",
      "metadata": {
        "colab": {
          "base_uri": "https://localhost:8080/"
        },
        "id": "uJQ_Wt0QCl-n",
        "outputId": "c65c1f6e-c5f0-43f4-d9cb-a1cb59dfba31"
      },
      "source": [
        "cleaned[0:10]"
      ],
      "id": "uJQ_Wt0QCl-n",
      "execution_count": null,
      "outputs": [
        {
          "output_type": "execute_result",
          "data": {
            "text/plain": [
              "['percentfedup com muslim bust they stole million in govt benefit barracuda brigad',\n",
              " 'percentfedup com re whi did attorney gener loretta lynch plead the fifth reason with fact',\n",
              " 'percentfedup com break weiner cooper with fbi on hillari email investig barracuda brigad',\n",
              " 'percentfedup com pin drop speech by father of daughter kidnap and kill by isi i have vote for donald j trump percentfedupcom fed up',\n",
              " 'percentfedup com fantast trump point plan to reform healthcar begin with a bombshel percentfedupcom fed up',\n",
              " 'percentfedup com hillari goe absolut berserk on protest at ralli video barracuda brigad',\n",
              " 'percentfedup com break nypd readi to make arrest in weiner casehillari visit pedophil island at least timesmoney launder underag sex payforplayproof of inappropri handl classifi inform percentfedupcom fed up',\n",
              " 'percentfedup com wow whistleblow tell chill stori of massiv voter fraud trump campaign readi lawsuit against fl sec of elect in critic district video percentfedupcom fed up',\n",
              " 'percentfedup com break clinton clearedwa thi a coordin last minut trick to energ hillari base percentfedupcom fed up',\n",
              " 'percentfedup com evil hillari support yell fck trumpburn truck of daddi fish with yr son over of trump bumperstick video percentfedupcom fed up']"
            ]
          },
          "metadata": {},
          "execution_count": 208
        }
      ]
    },
    {
      "cell_type": "code",
      "metadata": {
        "colab": {
          "base_uri": "https://localhost:8080/"
        },
        "id": "l6VNHfxB-oGf",
        "outputId": "51eca963-ab95-4f30-b9e4-42b9039c1c3d"
      },
      "source": [
        "vocab_size = 5000\n",
        "one_hot_dir = [one_hot(words,vocab_size) for words in cleaned]\n",
        "embedded_layer = pad_sequences(one_hot_dir,padding = 'pre')\n",
        "embedded_layer"
      ],
      "id": "l6VNHfxB-oGf",
      "execution_count": null,
      "outputs": [
        {
          "output_type": "execute_result",
          "data": {
            "text/plain": [
              "array([[   0,    0,    0, ...,  396, 4478, 3525],\n",
              "       [   0,    0,    0, ..., 2970, 3917, 3001],\n",
              "       [   0,    0,    0, ..., 2316, 4478, 3525],\n",
              "       ...,\n",
              "       [   0,    0,    0, ..., 4076, 1215, 1563],\n",
              "       [   0,    0,    0, ...,  577, 2084, 2846],\n",
              "       [   0,    0,    0, ..., 4707, 3975, 1307]], dtype=int32)"
            ]
          },
          "metadata": {},
          "execution_count": 180
        }
      ]
    },
    {
      "cell_type": "code",
      "metadata": {
        "id": "teGkTEDh-4pe"
      },
      "source": [
        "x = np.array(embedded_layer)\n",
        "y = np.array(y)"
      ],
      "id": "teGkTEDh-4pe",
      "execution_count": null,
      "outputs": []
    },
    {
      "cell_type": "code",
      "metadata": {
        "id": "4661f7cd"
      },
      "source": [
        "x_train,x_test,y_train,y_test = train_test_split(x,y,test_size=0.20)"
      ],
      "id": "4661f7cd",
      "execution_count": null,
      "outputs": []
    },
    {
      "cell_type": "code",
      "metadata": {
        "id": "55a18bf1"
      },
      "source": [
        "#creating model using LSTM\n",
        "model = Sequential()\n",
        "\n",
        "#taking number features as 50\n",
        "model.add(Embedding(5000,50,input_length = len(embedded_layer[0])))\n",
        "model.add(Dropout(0.5))\n",
        "\n",
        "#adding LSTM layers with 100 neurons\n",
        "model.add(LSTM(100))\n",
        "model.add(Dropout(0.5))\n",
        "\n",
        "#adding output layer \n",
        "model.add(Dense(1,activation=\"sigmoid\"))\n",
        "\n",
        "#compiling the model\n",
        "model.compile(loss=\"binary_crossentropy\",optimizer=\"adam\",metrics=[\"accuracy\"])"
      ],
      "id": "55a18bf1",
      "execution_count": null,
      "outputs": []
    },
    {
      "cell_type": "code",
      "metadata": {
        "colab": {
          "base_uri": "https://localhost:8080/"
        },
        "id": "_nCdvmGU_Hb4",
        "outputId": "9881d3a8-2ae7-4030-d124-9cf8c0502a55"
      },
      "source": [
        "model.summary()"
      ],
      "id": "_nCdvmGU_Hb4",
      "execution_count": null,
      "outputs": [
        {
          "output_type": "stream",
          "name": "stdout",
          "text": [
            "Model: \"sequential_6\"\n",
            "_________________________________________________________________\n",
            " Layer (type)                Output Shape              Param #   \n",
            "=================================================================\n",
            " embedding_6 (Embedding)     (None, 73, 50)            250000    \n",
            "                                                                 \n",
            " dropout_12 (Dropout)        (None, 73, 50)            0         \n",
            "                                                                 \n",
            " lstm_6 (LSTM)               (None, 100)               60400     \n",
            "                                                                 \n",
            " dropout_13 (Dropout)        (None, 100)               0         \n",
            "                                                                 \n",
            " dense_6 (Dense)             (None, 1)                 101       \n",
            "                                                                 \n",
            "=================================================================\n",
            "Total params: 310,501\n",
            "Trainable params: 310,501\n",
            "Non-trainable params: 0\n",
            "_________________________________________________________________\n"
          ]
        }
      ]
    },
    {
      "cell_type": "code",
      "metadata": {
        "colab": {
          "base_uri": "https://localhost:8080/"
        },
        "id": "jFznuHeA_QfD",
        "outputId": "47c13829-73df-4b15-a9dc-68835fbb5729"
      },
      "source": [
        "model.fit(x_train, y_train, validation_data = (x_test,y_test), epochs = 20, batch_size = 32)"
      ],
      "id": "jFznuHeA_QfD",
      "execution_count": null,
      "outputs": [
        {
          "output_type": "stream",
          "name": "stdout",
          "text": [
            "Epoch 1/20\n",
            "52/52 [==============================] - 6s 79ms/step - loss: 0.6646 - accuracy: 0.6210 - val_loss: 0.6156 - val_accuracy: 0.6577\n",
            "Epoch 2/20\n",
            "52/52 [==============================] - 4s 71ms/step - loss: 0.4760 - accuracy: 0.7824 - val_loss: 0.3854 - val_accuracy: 0.8753\n",
            "Epoch 3/20\n",
            "52/52 [==============================] - 4s 71ms/step - loss: 0.1578 - accuracy: 0.9688 - val_loss: 0.1407 - val_accuracy: 0.9682\n",
            "Epoch 4/20\n",
            "52/52 [==============================] - 4s 72ms/step - loss: 0.0633 - accuracy: 0.9890 - val_loss: 0.1098 - val_accuracy: 0.9780\n",
            "Epoch 5/20\n",
            "52/52 [==============================] - 4s 71ms/step - loss: 0.0479 - accuracy: 0.9908 - val_loss: 0.1016 - val_accuracy: 0.9756\n",
            "Epoch 6/20\n",
            "52/52 [==============================] - 4s 71ms/step - loss: 0.0186 - accuracy: 0.9963 - val_loss: 0.0975 - val_accuracy: 0.9804\n",
            "Epoch 7/20\n",
            "52/52 [==============================] - 4s 72ms/step - loss: 0.0098 - accuracy: 0.9969 - val_loss: 0.1073 - val_accuracy: 0.9780\n",
            "Epoch 8/20\n",
            "52/52 [==============================] - 4s 71ms/step - loss: 0.0079 - accuracy: 0.9988 - val_loss: 0.0936 - val_accuracy: 0.9853\n",
            "Epoch 9/20\n",
            "52/52 [==============================] - 4s 69ms/step - loss: 0.0064 - accuracy: 0.9982 - val_loss: 0.1169 - val_accuracy: 0.9756\n",
            "Epoch 10/20\n",
            "52/52 [==============================] - 4s 69ms/step - loss: 0.0059 - accuracy: 0.9988 - val_loss: 0.1044 - val_accuracy: 0.9853\n",
            "Epoch 11/20\n",
            "52/52 [==============================] - 4s 69ms/step - loss: 0.0046 - accuracy: 0.9988 - val_loss: 0.1042 - val_accuracy: 0.9878\n",
            "Epoch 12/20\n",
            "52/52 [==============================] - 4s 70ms/step - loss: 0.0034 - accuracy: 0.9988 - val_loss: 0.1104 - val_accuracy: 0.9878\n",
            "Epoch 13/20\n",
            "52/52 [==============================] - 4s 70ms/step - loss: 0.0046 - accuracy: 0.9988 - val_loss: 0.1117 - val_accuracy: 0.9878\n",
            "Epoch 14/20\n",
            "52/52 [==============================] - 4s 70ms/step - loss: 0.0042 - accuracy: 0.9988 - val_loss: 0.1142 - val_accuracy: 0.9878\n",
            "Epoch 15/20\n",
            "52/52 [==============================] - 4s 70ms/step - loss: 0.0032 - accuracy: 0.9988 - val_loss: 0.1152 - val_accuracy: 0.9853\n",
            "Epoch 16/20\n",
            "52/52 [==============================] - 4s 70ms/step - loss: 0.0035 - accuracy: 0.9988 - val_loss: 0.1161 - val_accuracy: 0.9853\n",
            "Epoch 17/20\n",
            "52/52 [==============================] - 4s 70ms/step - loss: 0.0023 - accuracy: 0.9994 - val_loss: 0.1184 - val_accuracy: 0.9878\n",
            "Epoch 18/20\n",
            "52/52 [==============================] - 4s 71ms/step - loss: 0.0021 - accuracy: 0.9994 - val_loss: 0.1213 - val_accuracy: 0.9878\n",
            "Epoch 19/20\n",
            "52/52 [==============================] - 4s 71ms/step - loss: 0.0021 - accuracy: 0.9988 - val_loss: 0.1255 - val_accuracy: 0.9878\n",
            "Epoch 20/20\n",
            "52/52 [==============================] - 4s 72ms/step - loss: 0.0016 - accuracy: 0.9994 - val_loss: 0.1276 - val_accuracy: 0.9878\n"
          ]
        },
        {
          "output_type": "execute_result",
          "data": {
            "text/plain": [
              "<keras.callbacks.History at 0x7f32ca381f10>"
            ]
          },
          "metadata": {},
          "execution_count": 185
        }
      ]
    },
    {
      "cell_type": "code",
      "metadata": {
        "colab": {
          "base_uri": "https://localhost:8080/"
        },
        "id": "9gIElPEtB_O1",
        "outputId": "77ded53e-729f-4a5e-d2c5-8c31349b95e3"
      },
      "source": [
        "y_pred = model.predict(x_test)\n",
        "y_pred = (y_pred > 0.5)\n",
        "from sklearn.metrics import accuracy_score\n",
        "accuracy_score(y_test,y_pred)"
      ],
      "id": "9gIElPEtB_O1",
      "execution_count": null,
      "outputs": [
        {
          "output_type": "execute_result",
          "data": {
            "text/plain": [
              "0.9877750611246944"
            ]
          },
          "metadata": {},
          "execution_count": 186
        }
      ]
    },
    {
      "cell_type": "code",
      "metadata": {
        "id": "xtOCQXkuh5vY"
      },
      "source": [
        "ypred = []\n",
        "\n",
        "for i in y_pred:\n",
        "    if(i == True):\n",
        "        ypred.append(0)\n",
        "    else:\n",
        "        ypred.append(1)"
      ],
      "id": "xtOCQXkuh5vY",
      "execution_count": null,
      "outputs": []
    },
    {
      "cell_type": "code",
      "metadata": {
        "colab": {
          "base_uri": "https://localhost:8080/"
        },
        "id": "KVkDOxrQgCD2",
        "outputId": "17078fc0-a002-4327-c6fa-0396f1583fe4"
      },
      "source": [
        "from sklearn.metrics import f1_score\n",
        "f1score = f1_score(y_test, ypred)\n",
        "f1score"
      ],
      "id": "KVkDOxrQgCD2",
      "execution_count": null,
      "outputs": [
        {
          "output_type": "execute_result",
          "data": {
            "text/plain": [
              "0.7935103244837758"
            ]
          },
          "metadata": {},
          "execution_count": 219
        }
      ]
    },
    {
      "cell_type": "code",
      "metadata": {
        "colab": {
          "base_uri": "https://localhost:8080/",
          "height": 428
        },
        "id": "beDtX21Mhg3M",
        "outputId": "b648e8e8-3139-43da-e693-0a2ee7b996ea"
      },
      "source": [
        "import seaborn as sn\n",
        "from sklearn.metrics import confusion_matrix\n",
        "\n",
        "matrix = confusion_matrix(y_test, ypred)\n",
        "\n",
        "df_cm = pd.DataFrame(matrix, index = [i for i in \"01\"],\n",
        "              columns = [i for i in \"01\"])\n",
        "plt.figure(figsize = (10,7))\n",
        "sn.heatmap(df_cm, annot=True,cmap=\"OrRd\", fmt='g')\n",
        "plt.show()"
      ],
      "id": "beDtX21Mhg3M",
      "execution_count": null,
      "outputs": [
        {
          "output_type": "display_data",
          "data": {
            "image/png": "[encoded data removed]",
            "text/plain": [
              "<Figure size 720x504 with 2 Axes>"
            ]
          },
          "metadata": {
            "needs_background": "light"
          }
        }
      ]
    }
  ]
}